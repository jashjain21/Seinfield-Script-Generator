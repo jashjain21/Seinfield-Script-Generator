{
 "cells": [
  {
   "cell_type": "markdown",
   "metadata": {},
   "source": [
    "# TV Script Generation\n",
    "\n",
    "In this project, you'll generate your own [Seinfeld](https://en.wikipedia.org/wiki/Seinfeld) TV scripts using RNNs.  You'll be using part of the [Seinfeld dataset](https://www.kaggle.com/thec03u5/seinfeld-chronicles#scripts.csv) of scripts from 9 seasons.  The Neural Network you'll build will generate a new ,\"fake\" TV script, based on patterns it recognizes in this training data.\n",
    "\n",
    "## Get the Data\n",
    "\n",
    "The data is already provided for you in `./data/Seinfeld_Scripts.txt` and you're encouraged to open that file and look at the text. \n",
    ">* As a first step, we'll load in this data and look at some samples. \n",
    "* Then, you'll be tasked with defining and training an RNN to generate a new script!"
   ]
  },
  {
   "cell_type": "code",
   "execution_count": 1,
   "metadata": {},
   "outputs": [],
   "source": [
    "\"\"\"\n",
    "DON'T MODIFY ANYTHING IN THIS CELL\n",
    "\"\"\"\n",
    "# load in data\n",
    "import helper\n",
    "data_dir = './data/Seinfeld_Scripts.txt'\n",
    "text = helper.load_data(data_dir)"
   ]
  },
  {
   "cell_type": "markdown",
   "metadata": {},
   "source": [
    "## Explore the Data\n",
    "Play around with `view_line_range` to view different parts of the data. This will give you a sense of the data you'll be working with. You can see, for example, that it is all lowercase text, and each new line of dialogue is separated by a newline character `\\n`."
   ]
  },
  {
   "cell_type": "code",
   "execution_count": null,
   "metadata": {},
   "outputs": [],
   "source": []
  },
  {
   "cell_type": "code",
   "execution_count": 2,
   "metadata": {},
   "outputs": [
    {
     "name": "stdout",
     "output_type": "stream",
     "text": [
      "Dataset Stats\n",
      "Roughly the number of unique words: 46367\n",
      "Number of lines: 109233\n",
      "Average number of words in each line: 5.544240293684143\n",
      "\n",
      "The lines 0 to 10:\n",
      "jerry: do you know what this is all about? do you know, why were here? to be out, this is out...and out is one of the single most enjoyable experiences of life. people...did you ever hear people talking about we should go out? this is what theyre talking about...this whole thing, were all out now, no one is home. not one person here is home, were all out! there are people trying to find us, they dont know where we are. (on an imaginary phone) did you ring?, i cant find him. where did he go? he didnt tell me where he was going. he must have gone out. you wanna go out you get ready, you pick out the clothes, right? you take the shower, you get all ready, get the cash, get your friends, the car, the spot, the reservation...then youre standing around, what do you do? you go we gotta be getting back. once youre out, you wanna get back! you wanna go to sleep, you wanna get up, you wanna go out again tomorrow, right? where ever you are in life, its my feeling, youve gotta go. \n",
      "\n",
      "jerry: (pointing at georges shirt) see, to me, that button is in the worst possible spot. the second button literally makes or breaks the shirt, look at it. its too high! its in no-mans-land. you look like you live with your mother. \n",
      "\n",
      "george: are you through? \n",
      "\n",
      "jerry: you do of course try on, when you buy? \n",
      "\n",
      "george: yes, it was purple, i liked it, i dont actually recall considering the buttons. \n",
      "\n"
     ]
    }
   ],
   "source": [
    "view_line_range = (0, 10)\n",
    "\n",
    "\"\"\"\n",
    "DON'T MODIFY ANYTHING IN THIS CELL THAT IS BELOW THIS LINE\n",
    "\"\"\"\n",
    "import numpy as np\n",
    "\n",
    "print('Dataset Stats')\n",
    "print('Roughly the number of unique words: {}'.format(len({word: None for word in text.split()})))\n",
    "\n",
    "lines = text.split('\\n')#list of lines \n",
    "print('Number of lines: {}'.format(len(lines)))\n",
    "word_count_line = [len(line.split()) for line in lines]#list of len(words) in each line \n",
    "print('Average number of words in each line: {}'.format(np.average(word_count_line)))\n",
    "\n",
    "print()\n",
    "print('The lines {} to {}:'.format(*view_line_range))\n",
    "print('\\n'.join(text.split('\\n')[view_line_range[0]:view_line_range[1]]))"
   ]
  },
  {
   "cell_type": "markdown",
   "metadata": {},
   "source": [
    "---\n",
    "## Implement Pre-processing Functions\n",
    "The first thing to do to any dataset is pre-processing.  Implement the following pre-processing functions below:\n",
    "- Lookup Table\n",
    "- Tokenize Punctuation\n",
    "\n",
    "### Lookup Table\n",
    "To create a word embedding, you first need to transform the words to ids.  In this function, create two dictionaries:\n",
    "- Dictionary to go from the words to an id, we'll call `vocab_to_int`\n",
    "- Dictionary to go from the id to word, we'll call `int_to_vocab`\n",
    "\n",
    "Return these dictionaries in the following **tuple** `(vocab_to_int, int_to_vocab)`"
   ]
  },
  {
   "cell_type": "code",
   "execution_count": 3,
   "metadata": {},
   "outputs": [
    {
     "name": "stdout",
     "output_type": "stream",
     "text": [
      "Tests Passed\n"
     ]
    }
   ],
   "source": [
    "import problem_unittests as tests\n",
    "from collections import Counter\n",
    "def create_lookup_tables(text):\n",
    "    \"\"\"\n",
    "    Create lookup tables for vocabulary\n",
    "    :param text: The text of tv scripts split into words\n",
    "    :return: A tuple of dicts (vocab_to_int, int_to_vocab)\n",
    "    \"\"\"\n",
    "    # TODO: Implement Function\n",
    "    words=Counter(text)\n",
    "    vocab_sorted=sorted(words,key=words.get,reverse=True)\n",
    "    int_to_vocab={ii:word for ii,word in enumerate(vocab_sorted)}\n",
    "    vocab_to_int={word:ii for ii,word in int_to_vocab.items()}\n",
    "    # return tuple\n",
    "    return (vocab_to_int,int_to_vocab)\n",
    "    \n",
    "\n",
    "\"\"\"\n",
    "DON'T MODIFY ANYTHING IN THIS CELL THAT IS BELOW THIS LINE\n",
    "\"\"\"\n",
    "tests.test_create_lookup_tables(create_lookup_tables)"
   ]
  },
  {
   "cell_type": "markdown",
   "metadata": {},
   "source": [
    "### Tokenize Punctuation\n",
    "We'll be splitting the script into a word array using spaces as delimiters.  However, punctuations like periods and exclamation marks can create multiple ids for the same word. For example, \"bye\" and \"bye!\" would generate two different word ids.\n",
    "\n",
    "Implement the function `token_lookup` to return a dict that will be used to tokenize symbols like \"!\" into \"||Exclamation_Mark||\".  Create a dictionary for the following symbols where the symbol is the key and value is the token:\n",
    "- Period ( **.** )\n",
    "- Comma ( **,** )\n",
    "- Quotation Mark ( **\"** )\n",
    "- Semicolon ( **;** )\n",
    "- Exclamation mark ( **!** )\n",
    "- Question mark ( **?** )\n",
    "- Left Parentheses ( **(** )\n",
    "- Right Parentheses ( **)** )\n",
    "- Dash ( **-** )\n",
    "- Return ( **\\n** )\n",
    "\n",
    "This dictionary will be used to tokenize the symbols and add the delimiter (space) around it.  This separates each symbols as its own word, making it easier for the neural network to predict the next word. Make sure you don't use a value that could be confused as a word; for example, instead of using the value \"dash\", try using something like \"||dash||\"."
   ]
  },
  {
   "cell_type": "code",
   "execution_count": 4,
   "metadata": {},
   "outputs": [
    {
     "name": "stdout",
     "output_type": "stream",
     "text": [
      "Tests Passed\n"
     ]
    }
   ],
   "source": [
    "def token_lookup():\n",
    "    \"\"\"\n",
    "    Generate a dict to turn punctuation into a token.\n",
    "    :return: Tokenized dictionary where the key is the punctuation and the value is the token\n",
    "    \"\"\"\n",
    "    # TODO: Implement Function\n",
    "    token_dict={\".\":'||Period||',\n",
    "                \",\":'||Comma||',\n",
    "                '\"':'||Quotation_Mark||',\n",
    "                \";\":'||Semicolon||',\n",
    "                \"!\":'||Exclamation_Mark||',\n",
    "                \"?\":'||Question_Mark||',\n",
    "                \"(\":'||Left_Paranthesis||',\n",
    "                \")\":'||Right_Paranthesis||',\n",
    "                \"-\":'||Dash||',\n",
    "                \"\\n\":'||Return||',\n",
    "               }    \n",
    "        \n",
    "        \n",
    "        \n",
    "    return token_dict\n",
    "\n",
    "\"\"\"\n",
    "DON'T MODIFY ANYTHING IN THIS CELL THAT IS BELOW THIS LINE\n",
    "\"\"\"\n",
    "tests.test_tokenize(token_lookup)"
   ]
  },
  {
   "cell_type": "markdown",
   "metadata": {},
   "source": [
    "## Pre-process all the data and save it\n",
    "\n",
    "Running the code cell below will pre-process all the data and save it to file. You're encouraged to lok at the code for `preprocess_and_save_data` in the `helpers.py` file to see what it's doing in detail, but you do not need to change this code."
   ]
  },
  {
   "cell_type": "code",
   "execution_count": 5,
   "metadata": {},
   "outputs": [],
   "source": [
    "\"\"\"\n",
    "DON'T MODIFY ANYTHING IN THIS CELL\n",
    "\"\"\"\n",
    "# pre-process training data\n",
    "helper.preprocess_and_save_data(data_dir, token_lookup, create_lookup_tables)"
   ]
  },
  {
   "cell_type": "markdown",
   "metadata": {},
   "source": [
    "# Check Point\n",
    "This is your first checkpoint. If you ever decide to come back to this notebook or have to restart the notebook, you can start from here. The preprocessed data has been saved to disk."
   ]
  },
  {
   "cell_type": "code",
   "execution_count": 6,
   "metadata": {},
   "outputs": [],
   "source": [
    "\"\"\"\n",
    "DON'T MODIFY ANYTHING IN THIS CELL\n",
    "\"\"\"\n",
    "import helper\n",
    "import problem_unittests as tests\n",
    "\n",
    "int_text, vocab_to_int, int_to_vocab, token_dict = helper.load_preprocess()"
   ]
  },
  {
   "cell_type": "markdown",
   "metadata": {},
   "source": [
    "## Build the Neural Network\n",
    "In this section, you'll build the components necessary to build an RNN by implementing the RNN Module and forward and backpropagation functions.\n",
    "\n",
    "### Check Access to GPU"
   ]
  },
  {
   "cell_type": "code",
   "execution_count": 7,
   "metadata": {},
   "outputs": [],
   "source": [
    "\"\"\"\n",
    "DON'T MODIFY ANYTHING IN THIS CELL\n",
    "\"\"\"\n",
    "import torch\n",
    "\n",
    "# Check for a GPU\n",
    "train_on_gpu = torch.cuda.is_available()\n",
    "if not train_on_gpu:\n",
    "    print('No GPU found. Please use a GPU to train your neural network.')"
   ]
  },
  {
   "cell_type": "markdown",
   "metadata": {},
   "source": [
    "## Input\n",
    "Let's start with the preprocessed input data. We'll use [TensorDataset](http://pytorch.org/docs/master/data.html#torch.utils.data.TensorDataset) to provide a known format to our dataset; in combination with [DataLoader](http://pytorch.org/docs/master/data.html#torch.utils.data.DataLoader), it will handle batching, shuffling, and other dataset iteration functions.\n",
    "\n",
    "You can create data with TensorDataset by passing in feature and target tensors. Then create a DataLoader as usual.\n",
    "```\n",
    "data = TensorDataset(feature_tensors, target_tensors)\n",
    "data_loader = torch.utils.data.DataLoader(data, \n",
    "                                          batch_size=batch_size)\n",
    "```\n",
    "\n",
    "### Batching\n",
    "Implement the `batch_data` function to batch `words` data into chunks of size `batch_size` using the `TensorDataset` and `DataLoader` classes.\n",
    "\n",
    ">You can batch words using the DataLoader, but it will be up to you to create `feature_tensors` and `target_tensors` of the correct size and content for a given `sequence_length`.\n",
    "\n",
    "For example, say we have these as input:\n",
    "```\n",
    "words = [1, 2, 3, 4, 5, 6, 7]\n",
    "sequence_length = 4\n",
    "```\n",
    "\n",
    "Your first `feature_tensor` should contain the values:\n",
    "```\n",
    "[1, 2, 3, 4]\n",
    "```\n",
    "And the corresponding `target_tensor` should just be the next \"word\"/tokenized word value:\n",
    "```\n",
    "5\n",
    "```\n",
    "This should continue with the second `feature_tensor`, `target_tensor` being:\n",
    "```\n",
    "[2, 3, 4, 5]  # features\n",
    "6             # target\n",
    "```"
   ]
  },
  {
   "cell_type": "code",
   "execution_count": null,
   "metadata": {},
   "outputs": [],
   "source": []
  },
  {
   "cell_type": "code",
   "execution_count": 8,
   "metadata": {},
   "outputs": [],
   "source": [
    "from torch.utils.data import TensorDataset, DataLoader\n",
    "\n",
    "\n",
    "def batch_data(words, sequence_length, batch_size):\n",
    "    \"\"\"\n",
    "    Batch the neural network data using DataLoader\n",
    "    :param words: The word ids of the TV scripts\n",
    "    :param sequence_length: The sequence length of each batch\n",
    "    :param batch_size: The size of each batch; the number of sequences in a batch\n",
    "    :return: DataLoader with batched data\n",
    "    \"\"\"\n",
    "    feature_tensor=[]\n",
    "    target_tensor=[]\n",
    "    # TODO: Implement function\n",
    "    for ii in range(0,len(words)-sequence_length):\n",
    "        feature_tensor.append(words[ii:ii+sequence_length])  \n",
    "        target_tensor.append(words[ii+sequence_length])\n",
    "    # return a dataloader\n",
    "    feature_tensor=np.asarray(feature_tensor)\n",
    "    target_tensor=np.asarray(target_tensor)\n",
    "    feature_tensor=feature_tensor.reshape(-1,sequence_length)\n",
    "    feature_tensor=torch.from_numpy(feature_tensor)\n",
    "    target_tensor=torch.from_numpy(target_tensor)\n",
    "    data=TensorDataset(feature_tensor,target_tensor)\n",
    "    dataloader=DataLoader(data,batch_size=batch_size,shuffle=True)\n",
    "    return dataloader\n",
    "\n",
    "# there is no test for this function, but you are encouraged to create\n",
    "# print statements and tests of your own\n"
   ]
  },
  {
   "cell_type": "code",
   "execution_count": null,
   "metadata": {},
   "outputs": [],
   "source": []
  },
  {
   "cell_type": "markdown",
   "metadata": {},
   "source": [
    "### Test your dataloader \n",
    "\n",
    "You'll have to modify this code to test a batching function, but it should look fairly similar.\n",
    "\n",
    "Below, we're generating some test text data and defining a dataloader using the function you defined, above. Then, we are getting some sample batch of inputs `sample_x` and targets `sample_y` from our dataloader.\n",
    "\n",
    "Your code should return something like the following (likely in a different order, if you shuffled your data):\n",
    "\n",
    "```\n",
    "torch.Size([10, 5])\n",
    "tensor([[ 28,  29,  30,  31,  32],\n",
    "        [ 21,  22,  23,  24,  25],\n",
    "        [ 17,  18,  19,  20,  21],\n",
    "        [ 34,  35,  36,  37,  38],\n",
    "        [ 11,  12,  13,  14,  15],\n",
    "        [ 23,  24,  25,  26,  27],\n",
    "        [  6,   7,   8,   9,  10],\n",
    "        [ 38,  39,  40,  41,  42],\n",
    "        [ 25,  26,  27,  28,  29],\n",
    "        [  7,   8,   9,  10,  11]])\n",
    "\n",
    "torch.Size([10])\n",
    "tensor([ 33,  26,  22,  39,  16,  28,  11,  43,  30,  12])\n",
    "```\n",
    "\n",
    "### Sizes\n",
    "Your sample_x should be of size `(batch_size, sequence_length)` or (10, 5) in this case and sample_y should just have one dimension: batch_size (10). \n",
    "\n",
    "### Values\n",
    "\n",
    "You should also notice that the targets, sample_y, are the *next* value in the ordered test_text data. So, for an input sequence `[ 28,  29,  30,  31,  32]` that ends with the value `32`, the corresponding output should be `33`."
   ]
  },
  {
   "cell_type": "code",
   "execution_count": 9,
   "metadata": {},
   "outputs": [
    {
     "name": "stdout",
     "output_type": "stream",
     "text": [
      "torch.Size([10, 5])\n",
      "tensor([[ 32,  33,  34,  35,  36],\n",
      "        [ 19,  20,  21,  22,  23],\n",
      "        [ 27,  28,  29,  30,  31],\n",
      "        [ 12,  13,  14,  15,  16],\n",
      "        [ 20,  21,  22,  23,  24],\n",
      "        [ 11,  12,  13,  14,  15],\n",
      "        [  7,   8,   9,  10,  11],\n",
      "        [ 18,  19,  20,  21,  22],\n",
      "        [ 38,  39,  40,  41,  42],\n",
      "        [ 43,  44,  45,  46,  47]])\n",
      "\n",
      "torch.Size([10])\n",
      "tensor([ 37,  24,  32,  17,  25,  16,  12,  23,  43,  48])\n"
     ]
    }
   ],
   "source": [
    "# test dataloader\n",
    "\n",
    "test_text = range(50)\n",
    "t_loader = batch_data(test_text, sequence_length=5, batch_size=10)\n",
    "\n",
    "data_iter = iter(t_loader)\n",
    "sample_x, sample_y = data_iter.next()\n",
    "\n",
    "print(sample_x.shape)\n",
    "print(sample_x)\n",
    "print()\n",
    "print(sample_y.shape)\n",
    "print(sample_y)"
   ]
  },
  {
   "cell_type": "markdown",
   "metadata": {},
   "source": [
    "---\n",
    "## Build the Neural Network\n",
    "Implement an RNN using PyTorch's [Module class](http://pytorch.org/docs/master/nn.html#torch.nn.Module). You may choose to use a GRU or an LSTM. To complete the RNN, you'll have to implement the following functions for the class:\n",
    " - `__init__` - The initialize function. \n",
    " - `init_hidden` - The initialization function for an LSTM/GRU hidden state\n",
    " - `forward` - Forward propagation function.\n",
    " \n",
    "The initialize function should create the layers of the neural network and save them to the class. The forward propagation function will use these layers to run forward propagation and generate an output and a hidden state.\n",
    "\n",
    "**The output of this model should be the *last* batch of word scores** after a complete sequence has been processed. That is, for each input sequence of words, we only want to output the word scores for a single, most likely, next word.\n",
    "\n",
    "### Hints\n",
    "\n",
    "1. Make sure to stack the outputs of the lstm to pass to your fully-connected layer, you can do this with `lstm_output = lstm_output.contiguous().view(-1, self.hidden_dim)`\n",
    "2. You can get the last batch of word scores by shaping the output of the final, fully-connected layer like so:\n",
    "\n",
    "```\n",
    "# reshape into (batch_size, seq_length, output_size)\n",
    "output = output.view(batch_size, -1, self.output_size)\n",
    "# get last batch\n",
    "out = output[:, -1]\n",
    "```"
   ]
  },
  {
   "cell_type": "code",
   "execution_count": 10,
   "metadata": {},
   "outputs": [
    {
     "name": "stdout",
     "output_type": "stream",
     "text": [
      "Tests Passed\n"
     ]
    }
   ],
   "source": [
    "import torch.nn as nn\n",
    "\n",
    "class RNN(nn.Module):\n",
    "    \n",
    "    def __init__(self, vocab_size, output_size, embedding_dim, hidden_dim, n_layers, dropout=0.5):\n",
    "        \"\"\"\n",
    "        Initialize the PyTorch RNN Module\n",
    "        :param vocab_size: The number of input dimensions of the neural network (the size of the vocabulary)\n",
    "        :param output_size: The number of output dimensions of the neural network\n",
    "        :param embedding_dim: The size of embeddings, should you choose to use them        \n",
    "        :param hidden_dim: The size of the hidden layer outputs\n",
    "        :param dropout: dropout to add in between LSTM/GRU layers\n",
    "        \"\"\"\n",
    "        super(RNN, self).__init__()\n",
    "        # TODO: Implement function\n",
    "        self.vocab_size=vocab_size\n",
    "        self.output_size=output_size\n",
    "        self.hidden_dim=hidden_dim\n",
    "        self.n_layers=n_layers\n",
    "        # set class variables\n",
    "        self.embed=nn.Embedding(vocab_size,embedding_dim)\n",
    "        self.lstm=nn.LSTM(embedding_dim,hidden_dim,n_layers,dropout=dropout,batch_first=True)\n",
    "        self.fc=nn.Linear(hidden_dim,output_size)\n",
    "        self.dropout=nn.Dropout(dropout)\n",
    "        \n",
    "        # define model layers\n",
    "    \n",
    "    \n",
    "    def forward(self, nn_input, hidden):\n",
    "        \"\"\"\n",
    "        Forward propagation of the neural network\n",
    "        :param nn_input: The input to the neural network\n",
    "        :param hidden: The hidden state        \n",
    "        :return: Two Tensors, the output of the neural network and the latest hidden state\n",
    "        \"\"\"\n",
    "        # TODO: Implement function   \n",
    "        batch_size=nn_input.shape[0]\n",
    "        emb=self.embed(nn_input)\n",
    "        lstm_output,hidden=self.lstm(emb,hidden)\n",
    "        lstm_output=self.dropout(lstm_output)\n",
    "        lstm_output = lstm_output.contiguous().view(-1, self.hidden_dim)\n",
    "        output=self.fc(lstm_output)\n",
    "        output = output.view(batch_size, -1, self.output_size)\n",
    "        out=output[:,-1]\n",
    "        # return one batch of output word scores and the hidden state\n",
    "        return out,hidden \n",
    "    \n",
    "    \n",
    "    def init_hidden(self, batch_size):\n",
    "        '''\n",
    "        Initialize the hidden state of an LSTM/GRU\n",
    "        :param batch_size: The batch_size of the hidden state\n",
    "        :return: hidden state of dims (n_layers, batch_size, hidden_dim)\n",
    "        '''\n",
    "        # Implement function\n",
    "        weight = next(self.parameters()).data\n",
    "        \n",
    "        if (train_on_gpu):\n",
    "            hidden = (weight.new(self.n_layers, batch_size, self.hidden_dim).zero_().cuda(),\n",
    "                  weight.new(self.n_layers, batch_size, self.hidden_dim).zero_().cuda())\n",
    "        else:\n",
    "            hidden = (weight.new(self.n_layers, batch_size, self.hidden_dim).zero_(),\n",
    "                      weight.new(self.n_layers, batch_size, self.hidden_dim).zero_())\n",
    "        \n",
    "        return hidden\n",
    "        \n",
    "        # initialize hidden state with zero weights, and move to GPU if available\n",
    "\n",
    "\"\"\"\n",
    "DON'T MODIFY ANYTHING IN THIS CELL THAT IS BELOW THIS LINE\n",
    "\"\"\"\n",
    "tests.test_rnn(RNN, train_on_gpu)"
   ]
  },
  {
   "cell_type": "markdown",
   "metadata": {},
   "source": [
    "### Define forward and backpropagation\n",
    "\n",
    "Use the RNN class you implemented to apply forward and back propagation. This function will be called, iteratively, in the training loop as follows:\n",
    "```\n",
    "loss = forward_back_prop(decoder, decoder_optimizer, criterion, inp, target)\n",
    "```\n",
    "\n",
    "And it should return the average loss over a batch and the hidden state returned by a call to `RNN(inp, hidden)`. Recall that you can get this loss by computing it, as usual, and calling `loss.item()`.\n",
    "\n",
    "**If a GPU is available, you should move your data to that GPU device, here.**"
   ]
  },
  {
   "cell_type": "code",
   "execution_count": 11,
   "metadata": {},
   "outputs": [
    {
     "name": "stdout",
     "output_type": "stream",
     "text": [
      "Tests Passed\n"
     ]
    }
   ],
   "source": [
    "def forward_back_prop(rnn, optimizer, criterion, inp, target, hidden):\n",
    "    \"\"\"\n",
    "    Forward and backward propagation on the neural network\n",
    "    :param decoder: The PyTorch Module that holds the neural network\n",
    "    :param decoder_optimizer: The PyTorch optimizer for the neural network\n",
    "    :param criterion: The PyTorch loss function\n",
    "    :param inp: A batch of input to the neural network\n",
    "    :param target: The target output for the batch of input\n",
    "    :return: The loss and the latest hidden state Tensor\n",
    "    \"\"\"\n",
    "    \n",
    "    # TODO: Implement Function\n",
    "    \n",
    "    # move data to GPU, if available\n",
    "    if train_on_gpu:\n",
    "        inp,target=inp.cuda(),target.cuda()\n",
    "    \n",
    "    # perform backpropagation and optimization\n",
    "    hidden=tuple([each.data for each in hidden])\n",
    "    rnn.zero_grad()\n",
    "    output,hidden=rnn(inp,hidden)\n",
    "    loss=criterion(output.squeeze(),target)\n",
    "    loss.backward()\n",
    "    optimizer.step()\n",
    "    # return the loss over a batch and the hidden state produced by our model\n",
    "    return loss.item(), hidden\n",
    "\n",
    "# Note that these tests aren't completely extensive.\n",
    "# they are here to act as general checks on the expected outputs of your functions\n",
    "\"\"\"\n",
    "DON'T MODIFY ANYTHING IN THIS CELL THAT IS BELOW THIS LINE\n",
    "\"\"\"\n",
    "tests.test_forward_back_prop(RNN, forward_back_prop, train_on_gpu)"
   ]
  },
  {
   "cell_type": "markdown",
   "metadata": {},
   "source": [
    "## Neural Network Training\n",
    "\n",
    "With the structure of the network complete and data ready to be fed in the neural network, it's time to train it.\n",
    "\n",
    "### Train Loop\n",
    "\n",
    "The training loop is implemented for you in the `train_decoder` function. This function will train the network over all the batches for the number of epochs given. The model progress will be shown every number of batches. This number is set with the `show_every_n_batches` parameter. You'll set this parameter along with other parameters in the next section."
   ]
  },
  {
   "cell_type": "code",
   "execution_count": 12,
   "metadata": {},
   "outputs": [],
   "source": [
    "\"\"\"\n",
    "DON'T MODIFY ANYTHING IN THIS CELL\n",
    "\"\"\"\n",
    "\n",
    "def train_rnn(rnn, batch_size, optimizer, criterion, n_epochs, show_every_n_batches=100):\n",
    "    train_losses=[]\n",
    "    batch_losses = []\n",
    "    \n",
    "    rnn.train()\n",
    "\n",
    "    print(\"Training for %d epoch(s)...\" % n_epochs)\n",
    "    for epoch_i in range(1, n_epochs + 1):\n",
    "        \n",
    "        # initialize hidden state\n",
    "        hidden = rnn.init_hidden(batch_size)\n",
    "        \n",
    "        for batch_i, (inputs, labels) in enumerate(train_loader, 1):\n",
    "            \n",
    "            # make sure you iterate over completely full batches, only\n",
    "            n_batches = len(train_loader.dataset)//batch_size\n",
    "            if(batch_i > n_batches):\n",
    "                break\n",
    "            \n",
    "            # forward, back prop\n",
    "            loss, hidden = forward_back_prop(rnn, optimizer, criterion, inputs, labels, hidden)          \n",
    "            # record loss\n",
    "            batch_losses.append(loss)\n",
    "\n",
    "            # printing loss stats\n",
    "            if batch_i % show_every_n_batches == 0:\n",
    "                print('Epoch: {:>4}/{:<4}  Loss: {}\\n'.format(\n",
    "                    epoch_i, n_epochs, np.average(batch_losses)))\n",
    "                train_losses.append(np.average(batch_losses))\n",
    "                batch_losses = []\n",
    "\n",
    "    # returns a trained rnn\n",
    "    return rnn,train_losses"
   ]
  },
  {
   "cell_type": "code",
   "execution_count": null,
   "metadata": {},
   "outputs": [],
   "source": []
  },
  {
   "cell_type": "markdown",
   "metadata": {},
   "source": [
    "### Hyperparameters\n",
    "\n",
    "Set and train the neural network with the following parameters:\n",
    "- Set `sequence_length` to the length of a sequence.\n",
    "- Set `batch_size` to the batch size.\n",
    "- Set `num_epochs` to the number of epochs to train for.\n",
    "- Set `learning_rate` to the learning rate for an Adam optimizer.\n",
    "- Set `vocab_size` to the number of uniqe tokens in our vocabulary.\n",
    "- Set `output_size` to the desired size of the output.\n",
    "- Set `embedding_dim` to the embedding dimension; smaller than the vocab_size.\n",
    "- Set `hidden_dim` to the hidden dimension of your RNN.\n",
    "- Set `n_layers` to the number of layers/cells in your RNN.\n",
    "- Set `show_every_n_batches` to the number of batches at which the neural network should print progress.\n",
    "\n",
    "If the network isn't getting the desired results, tweak these parameters and/or the layers in the `RNN` class."
   ]
  },
  {
   "cell_type": "code",
   "execution_count": 13,
   "metadata": {},
   "outputs": [
    {
     "name": "stdout",
     "output_type": "stream",
     "text": [
      "892110\n"
     ]
    }
   ],
   "source": [
    "print(len(int_text))"
   ]
  },
  {
   "cell_type": "code",
   "execution_count": 14,
   "metadata": {},
   "outputs": [],
   "source": [
    "# Data params\n",
    "# Sequence Length\n",
    "sequence_length = 10  # of words in a sequence\n",
    "# Batch Size\n",
    "batch_size = 256\n",
    "\n",
    "# data loader - do not change\n",
    "train_loader = batch_data(int_text, sequence_length, batch_size)"
   ]
  },
  {
   "cell_type": "code",
   "execution_count": 20,
   "metadata": {},
   "outputs": [],
   "source": [
    "# Training parameters\n",
    "# Number of Epochs\n",
    "num_epochs = 20\n",
    "# Learning Rate\n",
    "learning_rate = 0.001 \n",
    "\n",
    "# Model parameters\n",
    "# Vocab size\n",
    "vocab_size = len(vocab_to_int)\n",
    "# Output size\n",
    "output_size = vocab_size\n",
    "# Embedding Dimension\n",
    "embedding_dim = 300\n",
    "# Hidden Dimension\n",
    "hidden_dim = 400\n",
    "# Number of RNN Layers\n",
    "n_layers = 2\n",
    "\n",
    "# Show stats for every n number of batches\n",
    "show_every_n_batches = 3000"
   ]
  },
  {
   "cell_type": "markdown",
   "metadata": {},
   "source": [
    "### Train\n",
    "In the next cell, you'll train the neural network on the pre-processed data.  If you have a hard time getting a good loss, you may consider changing your hyperparameters. In general, you may get better results with larger hidden and n_layer dimensions, but larger models take a longer time to train. \n",
    "> **You should aim for a loss less than 3.5.** \n",
    "\n",
    "You should also experiment with different sequence lengths, which determine the size of the long range dependencies that a model can learn."
   ]
  },
  {
   "cell_type": "code",
   "execution_count": 21,
   "metadata": {},
   "outputs": [
    {
     "name": "stdout",
     "output_type": "stream",
     "text": [
      "Training for 20 epoch(s)...\n",
      "Epoch:    1/20    Loss: 4.61088140853246\n",
      "\n",
      "Epoch:    2/20    Loss: 4.153075978758689\n",
      "\n",
      "Epoch:    3/20    Loss: 3.997089212920718\n",
      "\n",
      "Epoch:    4/20    Loss: 3.8954950857792054\n",
      "\n",
      "Epoch:    5/20    Loss: 3.827206781140425\n",
      "\n",
      "Epoch:    6/20    Loss: 3.775436344089245\n",
      "\n",
      "Epoch:    7/20    Loss: 3.729425223289757\n",
      "\n",
      "Epoch:    8/20    Loss: 3.69440319925444\n",
      "\n",
      "Epoch:    9/20    Loss: 3.661860380805045\n",
      "\n",
      "Epoch:   10/20    Loss: 3.633771361768177\n",
      "\n",
      "Epoch:   11/20    Loss: 3.6074336013071298\n",
      "\n",
      "Epoch:   12/20    Loss: 3.5882555778073115\n",
      "\n",
      "Epoch:   13/20    Loss: 3.5657784561065253\n",
      "\n",
      "Epoch:   14/20    Loss: 3.5487127384827413\n",
      "\n",
      "Epoch:   15/20    Loss: 3.529579067681879\n",
      "\n",
      "Epoch:   16/20    Loss: 3.5138346125146143\n",
      "\n",
      "Epoch:   17/20    Loss: 3.4991941317214486\n",
      "\n",
      "Epoch:   18/20    Loss: 3.482601883353924\n",
      "\n",
      "Epoch:   19/20    Loss: 3.4795922296192288\n",
      "\n",
      "Epoch:   20/20    Loss: 3.4586188991636413\n",
      "\n",
      "Model Trained and Saved\n"
     ]
    },
    {
     "name": "stderr",
     "output_type": "stream",
     "text": [
      "/opt/conda/lib/python3.6/site-packages/torch/serialization.py:193: UserWarning: Couldn't retrieve source code for container of type RNN. It won't be checked for correctness upon loading.\n",
      "  \"type \" + obj.__name__ + \". It won't be checked \"\n"
     ]
    }
   ],
   "source": [
    "\"\"\"\n",
    "DON'T MODIFY ANYTHING IN THIS CELL\n",
    "\"\"\"\n",
    "from workspace_utils import active_session\n",
    "\n",
    "with active_session():\n",
    "    # do long-running work \n",
    "    # create model and move to gpu if available\n",
    "    rnn = RNN(vocab_size, output_size, embedding_dim, hidden_dim, n_layers, dropout=0.5)\n",
    "    if train_on_gpu:\n",
    "        rnn.cuda()\n",
    "\n",
    "    # defining loss and optimization functions for training\n",
    "    optimizer = torch.optim.Adam(rnn.parameters(), lr=learning_rate)\n",
    "    criterion = nn.CrossEntropyLoss()\n",
    "\n",
    "    # training the model\n",
    "    trained_rnn,train_losses = train_rnn(rnn, batch_size, optimizer, criterion, num_epochs, show_every_n_batches)\n",
    "\n",
    "    # saving the trained model\n",
    "    helper.save_model('./save/trained_rnn', trained_rnn)\n",
    "    print('Model Trained and Saved')"
   ]
  },
  {
   "cell_type": "code",
   "execution_count": 22,
   "metadata": {},
   "outputs": [],
   "source": [
    "%matplotlib inline\n",
    "%config InlineBackend.figure_format='retina'\n",
    "import matplotlib.pyplot as plt"
   ]
  },
  {
   "cell_type": "code",
   "execution_count": null,
   "metadata": {},
   "outputs": [],
   "source": [
    "'''\n",
    "FINAL MODEL'S GRAPH\n",
    "'''\n",
    "# # Data params\n",
    "# # Sequence Length\n",
    "# sequence_length = 10  # of words in a sequence\n",
    "# # Batch Size\n",
    "# batch_size = 256\n",
    "\n",
    "# # data loader - do not change\n",
    "# train_loader = batch_data(int_text, sequence_length, batch_size)\n",
    "# Training parameters\n",
    "# Number of Epochs\n",
    "# num_epochs = 20\n",
    "# # Learning Rate\n",
    "# learning_rate = 0.001 \n",
    "\n",
    "# # Model parameters\n",
    "# # Vocab size\n",
    "# vocab_size = len(vocab_to_int)\n",
    "# # Output size\n",
    "# output_size = vocab_size\n",
    "# # Embedding Dimension\n",
    "# embedding_dim = 300\n",
    "# # Hidden Dimension\n",
    "# hidden_dim = 400\n",
    "# # Number of RNN Layers\n",
    "# n_layers = 2\n",
    "\n",
    "# # Show stats for every n number of batches\n",
    "# show_every_n_batches = 3000"
   ]
  },
  {
   "cell_type": "code",
   "execution_count": 23,
   "metadata": {
    "scrolled": true
   },
   "outputs": [
    {
     "data": {
      "image/png": "[encoded data removed]",
      "text/plain": [
       "<matplotlib.figure.Figure at 0x7fdbc6aa5be0>"
      ]
     },
     "metadata": {
      "image/png": {
       "height": 250,
       "width": 373
      },
      "needs_background": "light"
     },
     "output_type": "display_data"
    }
   ],
   "source": [
    "plt.plot(train_losses,label='Training Loss');\n",
    "plt.legend(frameon=True);"
   ]
  },
  {
   "cell_type": "code",
   "execution_count": 24,
   "metadata": {},
   "outputs": [
    {
     "data": {
      "text/plain": [
       "\"\\nMODEL'S TRAINING GRAPH\\n\""
      ]
     },
     "execution_count": 24,
     "metadata": {},
     "output_type": "execute_result"
    }
   ],
   "source": [
    "'''\n",
    "MODEL'S TRAINING GRAPH\n",
    "'''\n",
    "\n",
    "\n",
    "# # Training parameters\n",
    "# sequence_length=10\n",
    "# batch_size=256\n",
    "# # Number of Epochs\n",
    "# num_epochs = 13#previously was 10\n",
    "# # Learning Rate\n",
    "# learning_rate = 0.001 \n",
    "\n",
    "# # Model parameters\n",
    "# # Vocab size\n",
    "# vocab_size = len(vocab_to_int)\n",
    "# # Output size\n",
    "# output_size = vocab_size\n",
    "# # Embedding Dimension\n",
    "# embedding_dim = 300\n",
    "# # Hidden Dimension\n",
    "# hidden_dim = 450\n",
    "# # Number of RNN Layers\n",
    "# n_layers = 2\n",
    "\n",
    "# # Show stats for every n number of batches\n",
    "# show_every_n_batches = 3000\n",
    "# Training for 13 epoch(s)...\n",
    "# Epoch:    1/13    Loss: 4.642652885993321\n",
    "\n",
    "# Epoch:    2/13    Loss: 4.169649862257676\n",
    "\n",
    "# Epoch:    3/13    Loss: 4.014700482277591\n",
    "\n",
    "# Epoch:    4/13    Loss: 3.913251153979318\n",
    "\n",
    "# Epoch:    5/13    Loss: 3.841124836667671\n",
    "\n",
    "# Epoch:    6/13    Loss: 3.786215680748669\n",
    "\n",
    "# Epoch:    7/13    Loss: 3.7443271910966334\n",
    "\n",
    "# Epoch:    8/13    Loss: 3.7061691336188334\n",
    "\n",
    "# Epoch:    9/13    Loss: 3.6738471105506583\n",
    "\n",
    "# Epoch:   10/13    Loss: 3.6481757726516024\n",
    "\n",
    "# Epoch:   11/13    Loss: 3.6215526094803443\n",
    "\n",
    "# Epoch:   12/13    Loss: 3.598492894804984\n",
    "\n",
    "# Epoch:   13/13    Loss: 3.5770740208614846\n",
    "\n",
    "# Model Trained and Saved"
   ]
  },
  {
   "cell_type": "code",
   "execution_count": 18,
   "metadata": {},
   "outputs": [
    {
     "data": {
      "image/png": "[encoded data removed]",
      "text/plain": [
       "<matplotlib.figure.Figure at 0x7fdbc6b64470>"
      ]
     },
     "metadata": {
      "image/png": {
       "height": 250,
       "width": 373
      },
      "needs_background": "light"
     },
     "output_type": "display_data"
    }
   ],
   "source": [
    "plt.plot(train_losses,label='Training Loss');\n",
    "plt.legend(frameon=True);"
   ]
  },
  {
   "cell_type": "code",
   "execution_count": null,
   "metadata": {},
   "outputs": [],
   "source": [
    "# #trained with lr =0.01\n",
    "# epochs=10\n",
    "# # Model parameters\n",
    "# # Vocab size\n",
    "# vocab_size = len(vocab_to_int)\n",
    "# # Output size\n",
    "# output_size = vocab_size\n",
    "# # Embedding Dimension\n",
    "# embedding_dim = 300\n",
    "# # Hidden Dimension\n",
    "# hidden_dim = 450\n",
    "# # Number of RNN Layers\n",
    "# n_layers = 2\n",
    "\n",
    "# Training for 10 epoch(s)...\n",
    "# Epoch:    1/10    Loss: 4.736961235880852\n",
    "\n",
    "# Epoch:    2/10    Loss: 4.217072887959902\n",
    "\n",
    "# Epoch:    3/10    Loss: 4.02516763458022\n",
    "\n",
    "# Epoch:    4/10    Loss: 3.9117059604308637\n",
    "\n",
    "# Epoch:    5/10    Loss: 3.8300376729494396\n",
    "\n",
    "# Epoch:    6/10    Loss: 3.7721916691033357\n",
    "\n",
    "# Epoch:    7/10    Loss: 3.718691410755591\n",
    "\n",
    "# Epoch:    8/10    Loss: 3.6873881513024034\n",
    "\n",
    "# Epoch:    9/10    Loss: 3.643549959092956\n",
    "\n",
    "# Epoch:   10/10    Loss: 3.618201467049245\n",
    "\n",
    "# /opt/conda/lib/python3.6/site-packages/torch/serialization.py:193: UserWarning: Couldn't retrieve source code for container of type RNN. It won't be checked for correctness upon loading.\n",
    "#   \"type \" + obj.__name__ + \". It won't be checked \"\n",
    "# Model Trained and Saved"
   ]
  },
  {
   "cell_type": "code",
   "execution_count": 40,
   "metadata": {
    "scrolled": true
   },
   "outputs": [
    {
     "data": {
      "text/plain": [
       "<matplotlib.legend.Legend at 0x7fa898f5de48>"
      ]
     },
     "execution_count": 40,
     "metadata": {},
     "output_type": "execute_result"
    },
    {
     "data": {
      "image/png": "[encoded data removed]",
      "text/plain": [
       "<matplotlib.figure.Figure at 0x7fa898f5ddd8>"
      ]
     },
     "metadata": {
      "image/png": {
       "height": 250,
       "width": 373
      },
      "needs_background": "light"
     },
     "output_type": "display_data"
    }
   ],
   "source": [
    "plt.plot(train_losses,label='Training Loss')\n",
    "plt.legend(frameon=True)"
   ]
  },
  {
   "cell_type": "code",
   "execution_count": null,
   "metadata": {},
   "outputs": [],
   "source": [
    "'''\n",
    "OTHER OPTIONS TRIED AND TESTED WHICH DIDNT PROVIDE THE REQUIRED RESULTS\n",
    "'''"
   ]
  },
  {
   "cell_type": "code",
   "execution_count": 37,
   "metadata": {
    "collapsed": true
   },
   "outputs": [
    {
     "data": {
      "text/plain": [
       "'\\nplotting graph for \\nnum_epochs = 4\\n# Learning Rate\\nlearning_rate = 0.001 \\n\\n# Model parameters\\n# Vocab size\\nvocab_size = len(vocab_to_int)\\n# Output size\\noutput_size = vocab_size\\n# Embedding Dimension\\nembedding_dim = 300\\n# Hidden Dimension\\nhidden_dim = 256\\n# Number of RNN Layers\\nn_layers = 2\\n\\n# Show stats for every n number of batches\\nshow_every_n_batches = 500\\n'"
      ]
     },
     "execution_count": 37,
     "metadata": {},
     "output_type": "execute_result"
    }
   ],
   "source": [
    "# plotting graph for \n",
    "# num_epochs = 4\n",
    "# # Learning Rate\n",
    "# learning_rate = 0.001 \n",
    "\n",
    "# # Model parameters\n",
    "# # Vocab size\n",
    "# vocab_size = len(vocab_to_int)\n",
    "# # Output size\n",
    "# output_size = vocab_size\n",
    "# # Embedding Dimension\n",
    "# embedding_dim = 300\n",
    "# # Hidden Dimension\n",
    "# hidden_dim = 256\n",
    "# # Number of RNN Layers\n",
    "# n_layers = 2\n",
    "\n",
    "# Show stats for every n number of batches\n",
    "#show_every_n_batches = 500\n",
    "\n",
    "# Training for 4 epoch(s)...\n",
    "# Epoch:    1/4     Loss: 4.381526186466217\n",
    "# Epoch:    2/4     Loss: 4.29167969417572\n",
    "# Epoch:    3/4     Loss: 4.194138273715973\n",
    "# Epoch:    4/4     Loss: 4.094459336280822"
   ]
  },
  {
   "cell_type": "code",
   "execution_count": 38,
   "metadata": {
    "collapsed": true
   },
   "outputs": [
    {
     "data": {
      "text/plain": [
       "'\\n# Training parameters\\n# Number of Epochs\\nnum_epochs = 10\\n# Learning Rate\\nlearning_rate = 0.001 \\n\\n# Model parameters\\n# Vocab size\\nvocab_size = len(vocab_to_int)\\n# Output size\\noutput_size = vocab_size\\n# Embedding Dimension\\nembedding_dim = 350\\n# Hidden Dimension\\nhidden_dim = 256\\n# Number of RNN Layers\\nn_layers = 2\\n\\n# Show stats for every n number of batches\\nshow_every_n_batches = 500\\n'"
      ]
     },
     "execution_count": 38,
     "metadata": {},
     "output_type": "execute_result"
    }
   ],
   "source": [
    "# Training parameters\n",
    "# Number of Epochs\n",
    "#num_epochs = 10\n",
    "# Learning Rate\n",
    "#learning_rate = 0.001 \n",
    "\n",
    "# Model parameters\n",
    "# Vocab size\n",
    "#vocab_size = len(vocab_to_int)\n",
    "# Output size\n",
    "# output_size = vocab_size\n",
    "# # Embedding Dimension\n",
    "# embedding_dim = 350\n",
    "# # Hidden Dimension\n",
    "# hidden_dim = 256\n",
    "# # Number of RNN Layers\n",
    "# n_layers = 2\n",
    "\n",
    "# # Show stats for every n number of batches\n",
    "# show_every_n_batches = 500\n",
    "\n",
    "# Training for 10 epoch(s)...\n",
    "\n",
    "# Epoch:    1/10    Loss: 4.354473064422607\n",
    "# Epoch:    2/10    Loss: 4.238656137466431\n",
    "# Epoch:    3/10    Loss: 4.194381492614746\n",
    "# Epoch:    4/10    Loss: 4.143048724651337\n",
    "# Epoch:    5/10    Loss: 4.153554751873016\n",
    "# Epoch:    6/10    Loss: 4.1124071044921875\n",
    "# Epoch:    7/10    Loss: 4.118459499359131\n",
    "# Epoch:    8/10    Loss: 4.049287878513336\n",
    "# Epoch:    9/10    Loss: 4.09135415649414\n",
    "# Epoch:   10/10    Loss: 4.084730540275574"
   ]
  },
  {
   "cell_type": "code",
   "execution_count": null,
   "metadata": {},
   "outputs": [],
   "source": [
    "# #trained with lr =0.01\n",
    "# epochs=10\n",
    "# # Model parameters\n",
    "# # Vocab size\n",
    "# vocab_size = len(vocab_to_int)\n",
    "# # Output size\n",
    "# output_size = vocab_size\n",
    "# # Embedding Dimension\n",
    "# embedding_dim = 350\n",
    "# # Hidden Dimension\n",
    "# hidden_dim = 256\n",
    "# # Number of RNN Layers\n",
    "# n_layers = 2\n",
    "\n",
    "#BUT THE LOSS DIDNT EVEN REDUCE BELOW  5 EVEN AFTER 2 COMPLETE EPOCHS SO REDUCED THE DIMENSIONALITY OF THE EMBEDDING LAYER \n",
    "#SO THAT THE MODEL LEARNS FASTER BUT KEPTTHE LR SAME AS PREV"
   ]
  },
  {
   "cell_type": "code",
   "execution_count": null,
   "metadata": {},
   "outputs": [],
   "source": []
  },
  {
   "cell_type": "markdown",
   "metadata": {},
   "source": [
    "### Question: How did you decide on your model hyperparameters? \n",
    "For example, did you try different sequence_lengths and find that one size made the model converge faster? What about your hidden_dim and n_layers; how did you decide on those?"
   ]
  },
  {
   "cell_type": "markdown",
   "metadata": {},
   "source": [
    "**Answer:** (Write answer, here) In the above cells I have provided the outputs of my several tries and approaches at the problem.Initially the model was training too slowly like the loss was decreasing no doubt but at a very slow pace even after the 8th epoch.So the following approaches were tried by me in order to bring the training loss below 3.5\n",
    "\n",
    "1.The average seqeunce length was around 6 but I increased it to 10 so that lstm cells learn better\n",
    "\n",
    "2.On increasing the batch size from the previous 64 to 256 at the end so that no doubt the computational ower required would be high but the model trained better\n",
    "\n",
    "3.The  embedding dimension were kept between the prescribed 200-400 as instructed by the course instructor and also the research papers shared gave me a similar idea\n",
    "\n",
    "4.The hidden_dim was initially kept to 200 by me as it was mentioned in one of the lectures that increasing it to around 500 would cause the model ti train slowly however with 200 the model wasnt training effecitively and when it was kept at 512 it took me a great deal of time so I selected 400 as a value which apparently worked for me\n",
    "\n",
    "5.In the end when I trained for 10 epochs the loss decreased successfully to 3.6 which indicated that on training for a few more epochs the loss would decrease a bit more hence I selected the value of 13 bt now the last training loss was 3.5770740208614846\n",
    "\n",
    "6.So finally I chose epochs as 20\n",
    "\n",
    "**Note**The graph provided are just for reference indicating my tries at the problem.\n",
    "Do have a look at the above commented cells in which I have shown the output of my previous attempts along with a graph of one of my training "
   ]
  },
  {
   "cell_type": "markdown",
   "metadata": {},
   "source": [
    "---\n",
    "# Checkpoint\n",
    "\n",
    "After running the above training cell, your model will be saved by name, `trained_rnn`, and if you save your notebook progress, **you can pause here and come back to this code at another time**. You can resume your progress by running the next cell, which will load in our word:id dictionaries _and_ load in your saved model by name!"
   ]
  },
  {
   "cell_type": "code",
   "execution_count": 25,
   "metadata": {},
   "outputs": [],
   "source": [
    "\"\"\"\n",
    "DON'T MODIFY ANYTHING IN THIS CELL\n",
    "\"\"\"\n",
    "import torch\n",
    "import helper\n",
    "import problem_unittests as tests\n",
    "\n",
    "_, vocab_to_int, int_to_vocab, token_dict = helper.load_preprocess()\n",
    "trained_rnn = helper.load_model('./save/trained_rnn')"
   ]
  },
  {
   "cell_type": "markdown",
   "metadata": {},
   "source": [
    "## Generate TV Script\n",
    "With the network trained and saved, you'll use it to generate a new, \"fake\" Seinfeld TV script in this section.\n",
    "\n",
    "### Generate Text\n",
    "To generate the text, the network needs to start with a single word and repeat its predictions until it reaches a set length. You'll be using the `generate` function to do this. It takes a word id to start with, `prime_id`, and generates a set length of text, `predict_len`. Also note that it uses topk sampling to introduce some randomness in choosing the most likely next word, given an output set of word scores!"
   ]
  },
  {
   "cell_type": "code",
   "execution_count": null,
   "metadata": {},
   "outputs": [],
   "source": [
    "# token_dict={\".\":'||Period||',\n",
    "#                 \",\":'||Comma||',\n",
    "#                 '\"':'||Quotation_Mark||',\n",
    "#                 \";\":'||Semicolon||',\n",
    "#                 \"!\":'||Exclamation_Mark||',\n",
    "#                 \"?\":'||Question_Mark||',\n",
    "#                 \"(\":'||Left_Paranthesis||',\n",
    "#                 \")\":'||Right_Paranthesis||',\n",
    "#                 \"-\":'||Dash||',\n",
    "#                 \"\\n\":'||Return||',\n",
    "#                }    "
   ]
  },
  {
   "cell_type": "code",
   "execution_count": 26,
   "metadata": {},
   "outputs": [],
   "source": [
    "\"\"\"\n",
    "DON'T MODIFY ANYTHING IN THIS CELL THAT IS BELOW THIS LINE\n",
    "\"\"\"\n",
    "import torch.nn.functional as F\n",
    "\n",
    "def generate(rnn, prime_id, int_to_vocab, token_dict, pad_value, predict_len=100):\n",
    "    \"\"\"\n",
    "    Generate text using the neural network\n",
    "    :param decoder: The PyTorch Module that holds the trained neural network\n",
    "    :param prime_id: The word id to start the first prediction(taken by pasing the starting word+: in vocab_to_int to get the \n",
    "                                                               corresponding integer value)\n",
    "    :param int_to_vocab: Dict of word id keys to word values\n",
    "    :param token_dict: Dict of puncuation tokens keys to puncuation values\n",
    "    :param pad_value: The value used to pad a sequence\n",
    "    :param predict_len: The length of text to generate\n",
    "    :return: The generated text\n",
    "    \"\"\"\n",
    "    rnn.eval()\n",
    "    \n",
    "    # create a sequence (batch_size=1) with the prime_id\n",
    "    current_seq = np.full((1, sequence_length), pad_value)#----->current_seq=[[<PAD>,<PAD>,<PAD>,<PAD>,<PAD>,..10 times]]\n",
    "    current_seq[-1][-1] = prime_id#last <PAD> replaced with prime_id that is starting word's integer equivalent \n",
    "    predicted = [int_to_vocab[prime_id]]#giving the word corressponding to the prime_id\n",
    "    \n",
    "    for _ in range(predict_len):\n",
    "        if train_on_gpu:\n",
    "            current_seq = torch.LongTensor(current_seq).cuda()\n",
    "        else:\n",
    "            current_seq = torch.LongTensor(current_seq)\n",
    "        \n",
    "        # initialize the hidden state\n",
    "        hidden = rnn.init_hidden(current_seq.size(0))#------(0)indicates the batch size \n",
    "        \n",
    "        # get the output of the rnn\n",
    "        output, _ = rnn(current_seq, hidden)\n",
    "        \n",
    "        # get the next word probabilities\n",
    "        p = F.softmax(output, dim=1).data#squishing all output len(vocab_to_int) words between 0 and 1\n",
    "        if(train_on_gpu):\n",
    "            p = p.cpu() # move to cpu\n",
    "         \n",
    "        # use top_k sampling to get the index of the next word\n",
    "        top_k = 5\n",
    "        p, top_i = p.topk(top_k)#p indicates the list of top 5 probablitites and top_i indicates corresponding indexes\n",
    "        top_i = top_i.numpy().squeeze()\n",
    "        \n",
    "        # select the likely next word index with some element of randomness\n",
    "        p = p.numpy().squeeze()\n",
    "        word_i = np.random.choice(top_i, p=p/p.sum())\n",
    "        \n",
    "        # retrieve that word from the dictionary\n",
    "        word = int_to_vocab[word_i]\n",
    "        predicted.append(word)#----appended the newly generated output word to the list of words     \n",
    "        \n",
    "        # the generated word becomes the next \"current sequence\" and the cycle can continue\n",
    "        current_seq = np.roll(current_seq, -1, 1)\n",
    "        current_seq[-1][-1] = word_i\n",
    "    \n",
    "    gen_sentences = ' '.join(predicted)\n",
    "    \n",
    "    # Replace punctuation tokens\n",
    "    for key, token in token_dict.items():\n",
    "        ending = ' ' if key in ['\\n', '(', '\"'] else ''\n",
    "        gen_sentences = gen_sentences.replace(' ' + token.lower(), key)\n",
    "    gen_sentences = gen_sentences.replace('\\n ', '\\n')\n",
    "    gen_sentences = gen_sentences.replace('( ', '(')\n",
    "    \n",
    "    # return all the sentences\n",
    "    return gen_sentences"
   ]
  },
  {
   "cell_type": "markdown",
   "metadata": {},
   "source": [
    "### Generate a New Script\n",
    "It's time to generate the text. Set `gen_length` to the length of TV script you want to generate and set `prime_word` to one of the following to start the prediction:\n",
    "- \"jerry\"\n",
    "- \"elaine\"\n",
    "- \"george\"\n",
    "- \"kramer\"\n",
    "\n",
    "You can set the prime word to _any word_ in our dictionary, but it's best to start with a name for generating a TV script. (You can also start with any other names you find in the original text file!)"
   ]
  },
  {
   "cell_type": "code",
   "execution_count": 27,
   "metadata": {},
   "outputs": [
    {
     "name": "stderr",
     "output_type": "stream",
     "text": [
      "/opt/conda/lib/python3.6/site-packages/ipykernel_launcher.py:39: UserWarning: RNN module weights are not part of single contiguous chunk of memory. This means they need to be compacted at every call, possibly greatly increasing memory usage. To compact weights again call flatten_parameters().\n"
     ]
    },
    {
     "name": "stdout",
     "output_type": "stream",
     "text": [
      "jerry:(elaine enters)\n",
      "\n",
      "jerry:(looking for the paper) oh, i got a good one, you know, and you know, i don't want any trouble.\n",
      "\n",
      "jerry: you can't take a look for the rest of the life...(elaine enters)\n",
      "\n",
      "jerry:(looking at jerry) hey, hey, i need to get a little more more than you know what i do.\n",
      "\n",
      "jerry: i think it's a little bit. i don't know why i'm going to do something.\n",
      "\n",
      "kramer: yeah!\n",
      "\n",
      "kramer: oh yeah, right.\n",
      "\n",
      "george: oh yeah, yeah.\n",
      "\n",
      "kramer:(to george) what about the dog?\n",
      "\n",
      "george: oh, i don't think i would be so funny.\n",
      "\n",
      "elaine: i can't get the money back!\n",
      "\n",
      "kramer: well, i got the whole thing on it.\n",
      "\n",
      "jerry: i think that's it.\n",
      "\n",
      "jerry: oh, you got the job.\n",
      "\n",
      "jerry: i don't understand.\n",
      "\n",
      "george: well, i can't. i'm gonna have to get out of here.\n",
      "\n",
      "elaine: well, i can't do it. i don't know what i mean, but i think i can get a good time.\n",
      "\n",
      "elaine: oh, yeah, i think i know.\n",
      "\n",
      "george: well, i think you should have said it!\n",
      "\n",
      "george:(pleading) i got the job.\n",
      "\n",
      "elaine:(pointing to himself) what about the guy that you have to do?\n",
      "\n",
      "george: no, i'm not.\n",
      "\n",
      "george: i know.\n",
      "\n",
      "elaine: oh, no, i don't....\n",
      "\n",
      "jerry: well, i'm not going to be a little uncomfortable.(george enters)\n",
      "\n",
      "jerry:(to elaine) what? what is this?\n",
      "\n",
      "jerry: i don't know.\n",
      "\n",
      "kramer: yeah!\n",
      "\n",
      "jerry:(to george) what is this?\n",
      "\n",
      "george: you don't know, i don't think so?\n",
      "\n",
      "elaine: oh, you got a big head.\n",
      "\n"
     ]
    }
   ],
   "source": [
    "# run the cell multiple times to get different results!\n",
    "gen_length = 400 # modify the length to your preference\n",
    "prime_word = 'jerry' # name for starting the script\n",
    "\n",
    "\"\"\"\n",
    "DON'T MODIFY ANYTHING IN THIS CELL THAT IS BELOW THIS LINE\n",
    "\"\"\"\n",
    "pad_word = helper.SPECIAL_WORDS['PADDING']#---->SPECIAL_WORDS = {'PADDING': '<PAD>'} ----from helper.py file\n",
    "generated_script = generate(trained_rnn, vocab_to_int[prime_word + ':'], int_to_vocab, token_dict, vocab_to_int[pad_word], gen_length)\n",
    "print(generated_script)"
   ]
  },
  {
   "cell_type": "markdown",
   "metadata": {},
   "source": [
    "#### Save your favorite scripts\n",
    "\n",
    "Once you have a script that you like (or find interesting), save it to a text file!"
   ]
  },
  {
   "cell_type": "code",
   "execution_count": 28,
   "metadata": {},
   "outputs": [],
   "source": [
    "# save script to a text file\n",
    "f =  open(\"generated_script_1.txt\",\"w\")\n",
    "f.write(generated_script)\n",
    "f.close()"
   ]
  },
  {
   "cell_type": "markdown",
   "metadata": {},
   "source": [
    "# The TV Script is Not Perfect\n",
    "It's ok if the TV script doesn't make perfect sense. It should look like alternating lines of dialogue, here is one such example of a few generated lines.\n",
    "\n",
    "### Example generated script\n",
    "\n",
    ">jerry: what about me?\n",
    ">\n",
    ">jerry: i don't have to wait.\n",
    ">\n",
    ">kramer:(to the sales table)\n",
    ">\n",
    ">elaine:(to jerry) hey, look at this, i'm a good doctor.\n",
    ">\n",
    ">newman:(to elaine) you think i have no idea of this...\n",
    ">\n",
    ">elaine: oh, you better take the phone, and he was a little nervous.\n",
    ">\n",
    ">kramer:(to the phone) hey, hey, jerry, i don't want to be a little bit.(to kramer and jerry) you can't.\n",
    ">\n",
    ">jerry: oh, yeah. i don't even know, i know.\n",
    ">\n",
    ">jerry:(to the phone) oh, i know.\n",
    ">\n",
    ">kramer:(laughing) you know...(to jerry) you don't know.\n",
    "\n",
    "You can see that there are multiple characters that say (somewhat) complete sentences, but it doesn't have to be perfect! It takes quite a while to get good results, and often, you'll have to use a smaller vocabulary (and discard uncommon words), or get more data.  The Seinfeld dataset is about 3.4 MB, which is big enough for our purposes; for script generation you'll want more than 1 MB of text, generally. \n",
    "\n",
    "# Submitting This Project\n",
    "When submitting this project, make sure to run all the cells before saving the notebook. Save the notebook file as \"dlnd_tv_script_generation.ipynb\" and save another copy as an HTML file by clicking \"File\" -> \"Download as..\"->\"html\". Include the \"helper.py\" and \"problem_unittests.py\" files in your submission. Once you download these files, compress them into one zip file for submission."
   ]
  },
  {
   "cell_type": "code",
   "execution_count": null,
   "metadata": {},
   "outputs": [],
   "source": []
  }
 ],
 "metadata": {
  "kernelspec": {
   "display_name": "Python 3",
   "language": "python",
   "name": "python3"
  },
  "language_info": {
   "codemirror_mode": {
    "name": "ipython",
    "version": 3
   },
   "file_extension": ".py",
   "mimetype": "text/x-python",
   "name": "python",
   "nbconvert_exporter": "python",
   "pygments_lexer": "ipython3",
   "version": "3.7.7"
  },
  "widgets": {
   "state": {},
   "version": "1.1.2"
  }
 },
 "nbformat": 4,
 "nbformat_minor": 1
}
